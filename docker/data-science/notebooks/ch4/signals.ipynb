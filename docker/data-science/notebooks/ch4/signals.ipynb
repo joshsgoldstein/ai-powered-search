{
 "cells": [
  {
   "cell_type": "markdown",
   "metadata": {},
   "source": [
    "# Setting up Retrotech Products + Signals"
   ]
  },
  {
   "cell_type": "code",
   "execution_count": 107,
   "metadata": {},
   "outputs": [],
   "source": [
    "import sys\n",
    "sys.path.append('..')\n",
    "from aips import *\n",
    "import os\n",
    "from pyspark.sql import SparkSession\n",
    "spark = SparkSession.builder.appName(\"aips-ch4-signals\").getOrCreate()"
   ]
  },
  {
   "cell_type": "markdown",
   "metadata": {},
   "source": [
    "## Create Products and Signals Collections"
   ]
  },
  {
   "cell_type": "code",
   "execution_count": 108,
   "metadata": {},
   "outputs": [
    {
     "name": "stdout",
     "output_type": "stream",
     "text": [
      "Wiping 'products' collection\n",
      "Status: Success\n",
      "\n",
      "Creating products' collection\n",
      "Status: Success\n",
      "\n",
      "Adding 'name' field to collection\n",
      "Status: Success\n",
      "\n",
      "Adding 'longDescription' field to collection\n",
      "Status: Success\n",
      "\n",
      "Adding 'manufacturer' field to collection\n",
      "Status: Success\n",
      "Wiping 'signals' collection\n",
      "Status: Success\n",
      "\n",
      "Creating signals' collection\n",
      "Status: Success\n"
     ]
    }
   ],
   "source": [
    "#Import Datasets\n",
    "products_collection=\"products\"\n",
    "create_collection(products_collection)\n",
    "#make the following fields explicitly text fields for later searching\n",
    "upsert_text_field(products_collection, \"name\")\n",
    "upsert_text_field(products_collection, \"longDescription\")\n",
    "upsert_text_field(products_collection, \"manufacturer\")\n",
    "\n",
    "signals_collection=\"signals\"\n",
    "create_collection(signals_collection)\n",
    "\n",
    "#opts={\"zkhost\": \"aips-zk\", \"collection\": product_collection}\n",
    "#df=spark.read.format(\"solr\").options(**opts).load()"
   ]
  },
  {
   "cell_type": "code",
   "execution_count": 109,
   "metadata": {},
   "outputs": [
    {
     "name": "stdout",
     "output_type": "stream",
     "text": [
      "products.csv\n",
      "signals.csv\n"
     ]
    }
   ],
   "source": [
    "#Get datasets\n",
    "![ ! -d 'retrotech' ] && git clone https://github.com/ai-powered-search/retrotech.git\n",
    "! cd retrotech && tar -xvf products.tgz && tar -xvf signals.tgz"
   ]
  },
  {
   "cell_type": "code",
   "execution_count": 110,
   "metadata": {},
   "outputs": [
    {
     "name": "stdout",
     "output_type": "stream",
     "text": [
      "Loading Products...\n",
      "Products Schema: \n",
      "root\n",
      " |-- upc: string (nullable = true)\n",
      " |-- name: string (nullable = true)\n",
      " |-- manufacturer: string (nullable = true)\n",
      " |-- shortDescription: string (nullable = true)\n",
      " |-- longDescription: string (nullable = true)\n",
      "\n",
      "Loading Signals...\n",
      "Signals Schema: \n",
      "root\n",
      " |-- query_id: string (nullable = true)\n",
      " |-- user: string (nullable = true)\n",
      " |-- type: string (nullable = true)\n",
      " |-- target: string (nullable = true)\n",
      " |-- signal_time: timestamp (nullable = true)\n",
      "\n"
     ]
    }
   ],
   "source": [
    "#index products\n",
    "print(\"Loading Products...\")\n",
    "csvFile = \"products.csv\"\n",
    "product_update_opts={\"zkhost\": \"aips-zk\", \"collection\": products_collection, \"gen_uniq_key\": \"true\", \"commit_within\": \"5000\"}\n",
    "csvDF = spark.read.format(\"com.databricks.spark.csv\").option(\"header\", \"true\").option(\"inferSchema\", \"true\").load(csvFile)\n",
    "csvDF.write.format(\"solr\").options(**product_update_opts).mode(\"overwrite\").save()\n",
    "print(\"Products Schema: \")\n",
    "csvDF.printSchema()\n",
    "\n",
    "#index signals\n",
    "print(\"Loading Signals...\")\n",
    "csvFile = \"signals.csv\"\n",
    "signals_update_opts={\"zkhost\": \"aips-zk\", \"collection\": signals_collection, \"gen_uniq_key\": \"true\", \"commit_within\": \"5000\"}\n",
    "csvDF = spark.read.format(\"com.databricks.spark.csv\").option(\"header\", \"true\").option(\"inferSchema\", \"true\").load(csvFile)\n",
    "csvDF.write.format(\"solr\").options(**signals_update_opts).mode(\"overwrite\").save()\n",
    "print(\"Signals Schema: \")\n",
    "csvDF.printSchema()"
   ]
  },
  {
   "cell_type": "markdown",
   "metadata": {},
   "source": [
    "## Create Signals Boosts (Signals Aggregation)"
   ]
  },
  {
   "cell_type": "code",
   "execution_count": 111,
   "metadata": {},
   "outputs": [
    {
     "name": "stdout",
     "output_type": "stream",
     "text": [
      "Wiping 'signals_aggregation' collection\n",
      "Status: Success\n",
      "\n",
      "Creating signals_aggregation' collection\n",
      "Status: Success\n",
      "Aggregating Signals to Create Signals Boosts\n"
     ]
    }
   ],
   "source": [
    "signals_boosting_collection=\"signals_aggregation\"\n",
    "create_collection(signals_boosting_collection)\n",
    "\n",
    "signals_opts={\"zkhost\": \"aips-zk\", \"collection\": signals_collection}\n",
    "signals_boosting_opts={\"zkhost\": \"aips-zk\", \"collection\": signals_boosting_collection, \"gen_uniq_key\": \"true\", \"commit_within\": \"5000\"}\n",
    "\n",
    "df = spark.read.format(\"solr\").options(**signals_opts).load()\n",
    "df.registerTempTable(\"signals\")\n",
    "\n",
    "print(\"Aggregating Signals to Create Signals Boosts\")\n",
    "\n",
    "signals_aggregation_query = \"\"\"\n",
    "select q.target as query, c.target as doc, count(c.target) as boost\n",
    "  from signals c left join signals q on c.query_id = q.query_id\n",
    "  where c.type = 'click' AND q.type = 'query'\n",
    "  group by query, doc\n",
    "  order by boost desc\n",
    "\"\"\"\n",
    "\n",
    "spark.sql(signals_aggregation_query).write.format(\"solr\").options(**signals_boosting_opts).mode(\"overwrite\").save()"
   ]
  },
  {
   "cell_type": "markdown",
   "metadata": {},
   "source": [
    "## Search without Signals Boosts"
   ]
  },
  {
   "cell_type": "code",
   "execution_count": 146,
   "metadata": {},
   "outputs": [
    {
     "data": {
      "text/html": [
       "<br/><strong>Query: </strong><i>ipad</i><br/><br/><strong>Ranked Docs:</strong>"
      ],
      "text/plain": [
       "<IPython.core.display.HTML object>"
      ]
     },
     "metadata": {},
     "output_type": "display_data"
    },
    {
     "data": {
      "text/html": [
       "[{'name': ['iPad&#xAE; - Refurbished Digital A/V Adapter'],<br/>'manufacturer': ['iPad&#xAE;'],<br/>'id': 'f81860d9-1c69-4496-87d4-3a854c6fc6ff',<br/>'score': 4.747438}, {'name': ['iPad&#xAE; - Refurbished Keyboard Dock'],<br/>'manufacturer': ['iPad&#xAE;'],<br/>'id': '08f3eb63-d104-40ba-ae46-f8185ef8e839',<br/>'score': 4.747438}, {'name': ['iPad&#xAE; - Refurbished USB Power Adapter'],<br/>'manufacturer': ['iPad&#xAE;'],<br/>'id': '445df23a-5641-4086-b8c9-92ef5ceb9025',<br/>'score': 4.747438}, {'name': ['iPad&#xAE; - Refurbished Dock Connector-to-VGA Adapter'],<br/>'manufacturer': ['iPad&#xAE;'],<br/>'id': 'dffdc6fb-004f-4811-a34e-af76a447cd78',<br/>'score': 4.747438}, {'name': ['iPad&#xAE; - Refurbished Dock'],<br/>'manufacturer': ['iPad&#xAE;'],<br/>'id': '60dba517-c429-4ffc-bdc2-3dea3252dbae',<br/>'score': 4.747438}]"
      ],
      "text/plain": [
       "<IPython.core.display.HTML object>"
      ]
     },
     "metadata": {},
     "output_type": "display_data"
    }
   ],
   "source": [
    "query = \"ipad\"\n",
    "\n",
    "collection = \"products\"\n",
    "request = {\n",
    "    \"query\": query,\n",
    "    \"fields\": [\"id\", \"name\", \"manufacturer\", \"score\"],\n",
    "    \"limit\": 5,\n",
    "    \"params\": {\n",
    "      \"qf\": \"name manufacturer longDescription\",\n",
    "      \"defType\": \"edismax\",\n",
    "      \"indent\": \"true\"\n",
    "    }\n",
    "}\n",
    "\n",
    "from IPython.core.display import display,HTML\n",
    "display(HTML(\"<br/><strong>Query: </strong><i>\" + query + \"</i><br/><br/><strong>Ranked Docs:</strong>\"))\n",
    "response = str(requests.post(solr_url + collection + \"/select\", json=request).json()[\"response\"][\"docs\"]).replace('\\\\n', '').replace(\", '\", \",<br/>'\")\n",
    "display(HTML(response))"
   ]
  },
  {
   "cell_type": "markdown",
   "metadata": {},
   "source": [
    "## Search with Signals Boosts Applied"
   ]
  },
  {
   "cell_type": "code",
   "execution_count": 147,
   "metadata": {},
   "outputs": [
    {
     "name": "stdout",
     "output_type": "stream",
     "text": [
      "\n",
      "Product Boosts for Query: \n",
      "\"885909457588\"^966 \"885909457595\"^205 \"885909471812\"^202 \"886111287055\"^109 \"843404073153\"^73 \"635753493559\"^62 \"885909457601\"^62 \"885909472376\"^61 \"610839379408\"^29 \"884962753071\"^28\n"
     ]
    },
    {
     "data": {
      "text/html": [
       "<br/><strong>Query: </strong><i>ipad</i><br/><br/><strong>Ranked Docs:</strong>"
      ],
      "text/plain": [
       "<IPython.core.display.HTML object>"
      ]
     },
     "metadata": {},
     "output_type": "display_data"
    },
    {
     "data": {
      "text/html": [
       "[{'name': ['Apple&#xAE; - iPad&#xAE; 2 with Wi-Fi - 16GB - Black'],<br/>'manufacturer': ['Apple&#xAE;'],<br/>'id': '6f4a21fa-f594-43d6-8d70-be3272ad888e',<br/>'score': 14147.801}, {'name': ['Apple&#xAE; - iPad&#xAE; 2 with Wi-Fi - 32GB - Black'],<br/>'manufacturer': ['Apple&#xAE;'],<br/>'id': 'b3b7cc54-117c-4330-93e0-8df9f096c639',<br/>'score': 3004.2463}, {'name': ['Apple&#xAE; - iPad&#xAE; 2 with Wi-Fi - 16GB - White'],<br/>'manufacturer': ['Apple&#xAE;'],<br/>'id': 'a8a6e10a-f1be-4e64-9cb5-aeedbd107939',<br/>'score': 2960.3162}, {'name': ['ZAGG - InvisibleSHIELD for Apple&#xAE; iPad&#xAE; 2 - Clear'],<br/>'manufacturer': ['ZAGG'],<br/>'id': 'fb4b0473-974b-4856-aa6f-d022f82ac1ee',<br/>'score': 1133.2542}, {'name': ['Apple&#xAE; - iPad&#xAE; 2 with Wi-Fi - 64GB - Black'],<br/>'manufacturer': ['Apple&#xAE;'],<br/>'id': 'd0158328-4000-4f89-b795-166e85c1032e',<br/>'score': 910.2536}]"
      ],
      "text/plain": [
       "<IPython.core.display.HTML object>"
      ]
     },
     "metadata": {},
     "output_type": "display_data"
    }
   ],
   "source": [
    "query = \"ipad\"\n",
    "\n",
    "signals_boosts_query = {\n",
    "    \"query\": query,\n",
    "    \"fields\": [\"doc\", \"boost\"],\n",
    "    \"limit\": 10,\n",
    "    \"params\": {\n",
    "      \"qf\": \"query\",\n",
    "      \"defType\": \"edismax\",\n",
    "      \"indent\": \"true\",\n",
    "      \"sort\": \"boost desc\"\n",
    "    }\n",
    "}\n",
    "\n",
    "signals_boosts = requests.post(solr_url + signals_boosting_collection + \"/select\", json=signals_boosts_query).json()[\"response\"][\"docs\"]\n",
    "\n",
    "product_boosts = \"\"\n",
    "for entry in signals_boosts:\n",
    "    if len(product_boosts) > 0:  product_boosts += \" \"\n",
    "    product_boosts += '\"' + entry[doc] + '\"^' + str(entry[boost])\n",
    "\n",
    "print(\"\\nProduct Boosts for Query: \\n\" + product_boosts)\n",
    "\n",
    "\n",
    "collection = \"products\"\n",
    "request = {\n",
    "    \"query\": query,\n",
    "    \"fields\": [\"id\", \"name\", \"manufacturer\", \"score\"],\n",
    "    \"limit\": 5,\n",
    "    \"params\": {\n",
    "      \"qf\": \"name manufacturer longDescription\",\n",
    "      \"defType\": \"edismax\",\n",
    "      \"indent\": \"true\",\n",
    "      \"boost\": \"sum(1,query({! df=upc v=$signals_boosting}))\",\n",
    "      \"signals_boosting\": product_boosts\n",
    "    }\n",
    "}\n",
    "\n",
    "from IPython.core.display import display,HTML\n",
    "display(HTML(\"<br/><strong>Query: </strong><i>\" + query + \"</i><br/><br/><strong>Ranked Docs:</strong>\"))\n",
    "response = str(requests.post(solr_url + collection + \"/select\", json=request).json()[\"response\"][\"docs\"]).replace('\\\\n', '').replace(\", '\", \",<br/>'\")\n",
    "display(HTML(response))"
   ]
  }
 ],
 "metadata": {
  "kernelspec": {
   "display_name": "Python 3",
   "language": "python",
   "name": "python3"
  },
  "language_info": {
   "codemirror_mode": {
    "name": "ipython",
    "version": 3
   },
   "file_extension": ".py",
   "mimetype": "text/x-python",
   "name": "python",
   "nbconvert_exporter": "python",
   "pygments_lexer": "ipython3",
   "version": "3.7.6"
  }
 },
 "nbformat": 4,
 "nbformat_minor": 2
}
